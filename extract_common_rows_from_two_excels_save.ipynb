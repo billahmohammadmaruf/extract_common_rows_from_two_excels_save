{
 "cells": [
  {
   "cell_type": "code",
   "execution_count": 4,
   "id": "b6c250ef",
   "metadata": {},
   "outputs": [
    {
     "name": "stdout",
     "output_type": "stream",
     "text": [
      "Common rows saved to D:\\data_sorting\\common_rows_614.xlsx\n"
     ]
    }
   ],
   "source": [
    "import os\n",
    "import pandas as pd\n",
    "\n",
    "os.chdir(r'D:\\data_sorting')\n",
    "\n",
    "# Load the Excel files\n",
    "file1 = r'D:\\data_sorting\\folder1\\614_LAI.xlsx'\n",
    "file2 = r'D:\\data_sorting\\folder1\\auf1_06142023_spec.xlsx'\n",
    "\n",
    "# Read the data into DataFrames\n",
    "df1 = pd.read_excel(file1)\n",
    "df2 = pd.read_excel(file2)\n",
    "\n",
    "# Merge the DataFrames based on the 'Plot_ID' column\n",
    "common_rows = pd.merge(df1, df2, on='Plot_ID')\n",
    "\n",
    "# Save the common rows to a new Excel file\n",
    "output_file = r'D:\\data_sorting\\common_rows_614.xlsx'\n",
    "common_rows.to_excel(output_file, index=False)\n",
    "\n",
    "print(f\"Common rows saved to {output_file}\")\n"
   ]
  },
  {
   "cell_type": "code",
   "execution_count": null,
   "id": "b79ee474",
   "metadata": {},
   "outputs": [],
   "source": []
  }
 ],
 "metadata": {
  "kernelspec": {
   "display_name": "Python 3 (ipykernel)",
   "language": "python",
   "name": "python3"
  },
  "language_info": {
   "codemirror_mode": {
    "name": "ipython",
    "version": 3
   },
   "file_extension": ".py",
   "mimetype": "text/x-python",
   "name": "python",
   "nbconvert_exporter": "python",
   "pygments_lexer": "ipython3",
   "version": "3.10.4"
  }
 },
 "nbformat": 4,
 "nbformat_minor": 5
}
